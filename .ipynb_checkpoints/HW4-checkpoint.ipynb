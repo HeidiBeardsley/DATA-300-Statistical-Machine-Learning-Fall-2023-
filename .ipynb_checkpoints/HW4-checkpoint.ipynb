{
 "cells": [
  {
   "cell_type": "code",
   "execution_count": 12,
   "id": "0e6880d6",
   "metadata": {},
   "outputs": [],
   "source": [
    "import numpy as np # v 1.21.5\n",
    "import sklearn # v 0.0\n",
    "import pandas as pd # v 1.4.2\n",
    "import ydata_profiling as pp # v 4.5.1\n",
    "import matplotlib.pyplot as plt # v 3.5.1\n",
    "import statsmodels.api as sm # v.0.13.2\n",
    "import sweetviz as sv\n",
    "\n",
    "from sklearn.linear_model import LogisticRegression \n",
    "from sklearn.model_selection import train_test_split \n",
    "from sklearn.metrics import confusion_matrix \n",
    "from sklearn.metrics import accuracy_score \n",
    "from sklearn.metrics import precision_score \n",
    "from sklearn.metrics import recall_score\n",
    "from sklearn import metrics \n",
    "from sklearn.discriminant_analysis import LinearDiscriminantAnalysis \n",
    "from sklearn.utils import resample\n",
    "from imblearn import SMOTE\n",
    "\n",
    "from sklearn.metrics import mean_absolute_error\n",
    "from sklearn.metrics import mean_squared_error"
   ]
  },
  {
   "cell_type": "code",
   "execution_count": 3,
   "id": "1a059bf9",
   "metadata": {},
   "outputs": [],
   "source": [
    "df = pd.read_csv(\"/Users/heidibeardsley/Downloads/loan_default_data_set.csv\")"
   ]
  },
  {
   "cell_type": "code",
   "execution_count": 5,
   "id": "5611cd6b",
   "metadata": {},
   "outputs": [],
   "source": [
    "by_class = df.groupby('Def_ind')\n",
    "defaulted = by_class.get_group(1)\n",
    "not_defaulted = by_class.get_group(0)"
   ]
  },
  {
   "cell_type": "code",
   "execution_count": 6,
   "id": "502b65eb",
   "metadata": {},
   "outputs": [
    {
     "name": "stdout",
     "output_type": "stream",
     "text": [
      "<class 'pandas.core.frame.DataFrame'>\n",
      "Int64Index: 2000 entries, 14 to 19998\n",
      "Data columns (total 21 columns):\n",
      " #   Column                           Non-Null Count  Dtype  \n",
      "---  ------                           --------------  -----  \n",
      " 0   tot_balance                      2000 non-null   float64\n",
      " 1   avg_bal_cards                    2000 non-null   float64\n",
      " 2   credit_age                       2000 non-null   int64  \n",
      " 3   credit_age_good_account          2000 non-null   int64  \n",
      " 4   credit_card_age                  2000 non-null   int64  \n",
      " 5   num_acc_30d_past_due_12_months   2000 non-null   int64  \n",
      " 6   num_acc_30d_past_due_6_months    2000 non-null   int64  \n",
      " 7   num_mortgage_currently_past_due  2000 non-null   int64  \n",
      " 8   tot_amount_currently_past_due    2000 non-null   float64\n",
      " 9   num_inq_12_month                 2000 non-null   int64  \n",
      " 10  num_card_inq_24_month            2000 non-null   int64  \n",
      " 11  num_card_12_month                2000 non-null   int64  \n",
      " 12  num_auto_ 36_month               2000 non-null   int64  \n",
      " 13  uti_open_card                    2000 non-null   float64\n",
      " 14  pct_over_50_uti                  2000 non-null   float64\n",
      " 15  uti_max_credit_line              2000 non-null   float64\n",
      " 16  pct_card_over_50_uti             1834 non-null   float64\n",
      " 17  ind_XYZ                          2000 non-null   int64  \n",
      " 18  rep_income                       1845 non-null   float64\n",
      " 19  rep_education                    2000 non-null   object \n",
      " 20  Def_ind                          2000 non-null   int64  \n",
      "dtypes: float64(8), int64(12), object(1)\n",
      "memory usage: 343.8+ KB\n"
     ]
    }
   ],
   "source": [
    "defaulted.info()"
   ]
  },
  {
   "cell_type": "code",
   "execution_count": 7,
   "id": "09bdca8e",
   "metadata": {},
   "outputs": [
    {
     "name": "stdout",
     "output_type": "stream",
     "text": [
      "<class 'pandas.core.frame.DataFrame'>\n",
      "Int64Index: 18000 entries, 0 to 19999\n",
      "Data columns (total 21 columns):\n",
      " #   Column                           Non-Null Count  Dtype  \n",
      "---  ------                           --------------  -----  \n",
      " 0   tot_balance                      18000 non-null  float64\n",
      " 1   avg_bal_cards                    18000 non-null  float64\n",
      " 2   credit_age                       18000 non-null  int64  \n",
      " 3   credit_age_good_account          18000 non-null  int64  \n",
      " 4   credit_card_age                  18000 non-null  int64  \n",
      " 5   num_acc_30d_past_due_12_months   18000 non-null  int64  \n",
      " 6   num_acc_30d_past_due_6_months    18000 non-null  int64  \n",
      " 7   num_mortgage_currently_past_due  18000 non-null  int64  \n",
      " 8   tot_amount_currently_past_due    18000 non-null  float64\n",
      " 9   num_inq_12_month                 18000 non-null  int64  \n",
      " 10  num_card_inq_24_month            18000 non-null  int64  \n",
      " 11  num_card_12_month                18000 non-null  int64  \n",
      " 12  num_auto_ 36_month               18000 non-null  int64  \n",
      " 13  uti_open_card                    18000 non-null  float64\n",
      " 14  pct_over_50_uti                  18000 non-null  float64\n",
      " 15  uti_max_credit_line              18000 non-null  float64\n",
      " 16  pct_card_over_50_uti             16208 non-null  float64\n",
      " 17  ind_XYZ                          18000 non-null  int64  \n",
      " 18  rep_income                       16596 non-null  float64\n",
      " 19  rep_education                    17999 non-null  object \n",
      " 20  Def_ind                          18000 non-null  int64  \n",
      "dtypes: float64(8), int64(12), object(1)\n",
      "memory usage: 3.0+ MB\n"
     ]
    }
   ],
   "source": [
    "not_defaulted.info()"
   ]
  },
  {
   "cell_type": "code",
   "execution_count": 15,
   "id": "0f1ddcf8",
   "metadata": {},
   "outputs": [],
   "source": [
    "defaulted_upsampled = resample(defaulted,random_state=7,n_samples=16000,replace=True)\n",
    "df_defaulted_upsampled = pd.concat([defaulted_upsampled,defaulted])"
   ]
  },
  {
   "cell_type": "code",
   "execution_count": 16,
   "id": "541b1107",
   "metadata": {},
   "outputs": [
    {
     "name": "stdout",
     "output_type": "stream",
     "text": [
      "<class 'pandas.core.frame.DataFrame'>\n",
      "Int64Index: 18000 entries, 1855 to 19998\n",
      "Data columns (total 21 columns):\n",
      " #   Column                           Non-Null Count  Dtype  \n",
      "---  ------                           --------------  -----  \n",
      " 0   tot_balance                      18000 non-null  float64\n",
      " 1   avg_bal_cards                    18000 non-null  float64\n",
      " 2   credit_age                       18000 non-null  int64  \n",
      " 3   credit_age_good_account          18000 non-null  int64  \n",
      " 4   credit_card_age                  18000 non-null  int64  \n",
      " 5   num_acc_30d_past_due_12_months   18000 non-null  int64  \n",
      " 6   num_acc_30d_past_due_6_months    18000 non-null  int64  \n",
      " 7   num_mortgage_currently_past_due  18000 non-null  int64  \n",
      " 8   tot_amount_currently_past_due    18000 non-null  float64\n",
      " 9   num_inq_12_month                 18000 non-null  int64  \n",
      " 10  num_card_inq_24_month            18000 non-null  int64  \n",
      " 11  num_card_12_month                18000 non-null  int64  \n",
      " 12  num_auto_ 36_month               18000 non-null  int64  \n",
      " 13  uti_open_card                    18000 non-null  float64\n",
      " 14  pct_over_50_uti                  18000 non-null  float64\n",
      " 15  uti_max_credit_line              18000 non-null  float64\n",
      " 16  pct_card_over_50_uti             16519 non-null  float64\n",
      " 17  ind_XYZ                          18000 non-null  int64  \n",
      " 18  rep_income                       16619 non-null  float64\n",
      " 19  rep_education                    18000 non-null  object \n",
      " 20  Def_ind                          18000 non-null  int64  \n",
      "dtypes: float64(8), int64(12), object(1)\n",
      "memory usage: 3.0+ MB\n"
     ]
    }
   ],
   "source": [
    "df_defaulted_upsampled.info()"
   ]
  },
  {
   "cell_type": "code",
   "execution_count": 18,
   "id": "aa4cb387",
   "metadata": {},
   "outputs": [
    {
     "name": "stdout",
     "output_type": "stream",
     "text": [
      "<class 'pandas.core.frame.DataFrame'>\n",
      "Int64Index: 36000 entries, 1855 to 19999\n",
      "Data columns (total 21 columns):\n",
      " #   Column                           Non-Null Count  Dtype  \n",
      "---  ------                           --------------  -----  \n",
      " 0   tot_balance                      36000 non-null  float64\n",
      " 1   avg_bal_cards                    36000 non-null  float64\n",
      " 2   credit_age                       36000 non-null  int64  \n",
      " 3   credit_age_good_account          36000 non-null  int64  \n",
      " 4   credit_card_age                  36000 non-null  int64  \n",
      " 5   num_acc_30d_past_due_12_months   36000 non-null  int64  \n",
      " 6   num_acc_30d_past_due_6_months    36000 non-null  int64  \n",
      " 7   num_mortgage_currently_past_due  36000 non-null  int64  \n",
      " 8   tot_amount_currently_past_due    36000 non-null  float64\n",
      " 9   num_inq_12_month                 36000 non-null  int64  \n",
      " 10  num_card_inq_24_month            36000 non-null  int64  \n",
      " 11  num_card_12_month                36000 non-null  int64  \n",
      " 12  num_auto_ 36_month               36000 non-null  int64  \n",
      " 13  uti_open_card                    36000 non-null  float64\n",
      " 14  pct_over_50_uti                  36000 non-null  float64\n",
      " 15  uti_max_credit_line              36000 non-null  float64\n",
      " 16  pct_card_over_50_uti             32727 non-null  float64\n",
      " 17  ind_XYZ                          36000 non-null  int64  \n",
      " 18  rep_income                       33215 non-null  float64\n",
      " 19  rep_education                    35999 non-null  object \n",
      " 20  Def_ind                          36000 non-null  int64  \n",
      "dtypes: float64(8), int64(12), object(1)\n",
      "memory usage: 6.0+ MB\n"
     ]
    }
   ],
   "source": [
    "df_oversampled = pd.concat([df_defaulted_upsampled,not_defaulted])\n",
    "df_oversampled.info()"
   ]
  },
  {
   "cell_type": "code",
   "execution_count": 19,
   "id": "87c8b8f3",
   "metadata": {},
   "outputs": [
    {
     "name": "stdout",
     "output_type": "stream",
     "text": [
      "<class 'pandas.core.frame.DataFrame'>\n",
      "Int64Index: 2000 entries, 18805 to 1111\n",
      "Data columns (total 21 columns):\n",
      " #   Column                           Non-Null Count  Dtype  \n",
      "---  ------                           --------------  -----  \n",
      " 0   tot_balance                      2000 non-null   float64\n",
      " 1   avg_bal_cards                    2000 non-null   float64\n",
      " 2   credit_age                       2000 non-null   int64  \n",
      " 3   credit_age_good_account          2000 non-null   int64  \n",
      " 4   credit_card_age                  2000 non-null   int64  \n",
      " 5   num_acc_30d_past_due_12_months   2000 non-null   int64  \n",
      " 6   num_acc_30d_past_due_6_months    2000 non-null   int64  \n",
      " 7   num_mortgage_currently_past_due  2000 non-null   int64  \n",
      " 8   tot_amount_currently_past_due    2000 non-null   float64\n",
      " 9   num_inq_12_month                 2000 non-null   int64  \n",
      " 10  num_card_inq_24_month            2000 non-null   int64  \n",
      " 11  num_card_12_month                2000 non-null   int64  \n",
      " 12  num_auto_ 36_month               2000 non-null   int64  \n",
      " 13  uti_open_card                    2000 non-null   float64\n",
      " 14  pct_over_50_uti                  2000 non-null   float64\n",
      " 15  uti_max_credit_line              2000 non-null   float64\n",
      " 16  pct_card_over_50_uti             1799 non-null   float64\n",
      " 17  ind_XYZ                          2000 non-null   int64  \n",
      " 18  rep_income                       1829 non-null   float64\n",
      " 19  rep_education                    2000 non-null   object \n",
      " 20  Def_ind                          2000 non-null   int64  \n",
      "dtypes: float64(8), int64(12), object(1)\n",
      "memory usage: 343.8+ KB\n"
     ]
    }
   ],
   "source": [
    "not_defaulted_downsampled = resample(not_defaulted,random_state=7,n_samples=2000,replace=True)\n",
    "not_defaulted_downsampled.info()"
   ]
  },
  {
   "cell_type": "code",
   "execution_count": 21,
   "id": "dd127e35",
   "metadata": {},
   "outputs": [
    {
     "name": "stdout",
     "output_type": "stream",
     "text": [
      "<class 'pandas.core.frame.DataFrame'>\n",
      "Int64Index: 4000 entries, 18805 to 19998\n",
      "Data columns (total 21 columns):\n",
      " #   Column                           Non-Null Count  Dtype  \n",
      "---  ------                           --------------  -----  \n",
      " 0   tot_balance                      4000 non-null   float64\n",
      " 1   avg_bal_cards                    4000 non-null   float64\n",
      " 2   credit_age                       4000 non-null   int64  \n",
      " 3   credit_age_good_account          4000 non-null   int64  \n",
      " 4   credit_card_age                  4000 non-null   int64  \n",
      " 5   num_acc_30d_past_due_12_months   4000 non-null   int64  \n",
      " 6   num_acc_30d_past_due_6_months    4000 non-null   int64  \n",
      " 7   num_mortgage_currently_past_due  4000 non-null   int64  \n",
      " 8   tot_amount_currently_past_due    4000 non-null   float64\n",
      " 9   num_inq_12_month                 4000 non-null   int64  \n",
      " 10  num_card_inq_24_month            4000 non-null   int64  \n",
      " 11  num_card_12_month                4000 non-null   int64  \n",
      " 12  num_auto_ 36_month               4000 non-null   int64  \n",
      " 13  uti_open_card                    4000 non-null   float64\n",
      " 14  pct_over_50_uti                  4000 non-null   float64\n",
      " 15  uti_max_credit_line              4000 non-null   float64\n",
      " 16  pct_card_over_50_uti             3633 non-null   float64\n",
      " 17  ind_XYZ                          4000 non-null   int64  \n",
      " 18  rep_income                       3674 non-null   float64\n",
      " 19  rep_education                    4000 non-null   object \n",
      " 20  Def_ind                          4000 non-null   int64  \n",
      "dtypes: float64(8), int64(12), object(1)\n",
      "memory usage: 687.5+ KB\n"
     ]
    }
   ],
   "source": [
    "df_undersampled = pd.concat([not_defaulted_downsampled,defaulted])\n",
    "df_undersampled.info()"
   ]
  },
  {
   "cell_type": "code",
   "execution_count": null,
   "id": "3c51c31b",
   "metadata": {},
   "outputs": [],
   "source": []
  },
  {
   "cell_type": "code",
   "execution_count": null,
   "id": "d8dfc0a2",
   "metadata": {},
   "outputs": [],
   "source": []
  },
  {
   "cell_type": "code",
   "execution_count": null,
   "id": "0aa964c6",
   "metadata": {},
   "outputs": [],
   "source": []
  },
  {
   "cell_type": "code",
   "execution_count": null,
   "id": "81d6e240",
   "metadata": {},
   "outputs": [],
   "source": []
  },
  {
   "cell_type": "code",
   "execution_count": null,
   "id": "a8b946bb",
   "metadata": {},
   "outputs": [],
   "source": []
  },
  {
   "cell_type": "code",
   "execution_count": null,
   "id": "8afbc43e",
   "metadata": {},
   "outputs": [],
   "source": []
  }
 ],
 "metadata": {
  "kernelspec": {
   "display_name": "Python 3 (ipykernel)",
   "language": "python",
   "name": "python3"
  },
  "language_info": {
   "codemirror_mode": {
    "name": "ipython",
    "version": 3
   },
   "file_extension": ".py",
   "mimetype": "text/x-python",
   "name": "python",
   "nbconvert_exporter": "python",
   "pygments_lexer": "ipython3",
   "version": "3.9.12"
  }
 },
 "nbformat": 4,
 "nbformat_minor": 5
}
